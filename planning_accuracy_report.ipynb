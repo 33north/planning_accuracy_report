{
 "cells": [
  {
   "cell_type": "code",
   "execution_count": 1,
   "id": "ad4fd7e5",
   "metadata": {},
   "outputs": [],
   "source": [
    "import numpy as np\n",
    "import pandas as pd\n",
    "import pathlib as pl\n",
    "import duckdb as ddb"
   ]
  },
  {
   "cell_type": "code",
   "execution_count": 2,
   "id": "d35cd719",
   "metadata": {},
   "outputs": [],
   "source": [
    "filepath_closed_sales = pl.Path(\"T:\", \"Demand Planning\", \"Carry ATS review\", \"Exports\", \"Closed Sales\")\n",
    "closed_sales_file_name = {\"ClosedSales\": \"Closed sales - size level.xlsx\"}\n",
    "\n",
    "\n",
    "filepath_closed_sales = pl.Path(\"T:\", \"Demand Planning\", \"Carry ATS review\", \"Exports\", \"Closed Sales\", \"Closed sales - size level.xlsx\")"
   ]
  },
  {
   "cell_type": "code",
   "execution_count": 3,
   "id": "2ea8adbe",
   "metadata": {},
   "outputs": [],
   "source": [
    "# closed_sales_data_1 = pd.read_excel(filepath_closed_sales, sheet_name = \"Basics Sales Data\")\n",
    "# closed_sales_data_2 = pd.read_excel(filepath_closed_sales, sheet_name = \"Basics Sales Data(1)\")\n"
   ]
  },
  {
   "cell_type": "code",
   "execution_count": 4,
   "id": "9ca5ced0",
   "metadata": {},
   "outputs": [],
   "source": [
    "ddb.sql(\"INSTALL excel; LOAD excel;\")"
   ]
  },
  {
   "cell_type": "code",
   "execution_count": 5,
   "id": "cffd85d5",
   "metadata": {},
   "outputs": [
    {
     "name": "stderr",
     "output_type": "stream",
     "text": [
      "<>:2: SyntaxWarning: invalid escape sequence '\\l'\n",
      "<>:2: SyntaxWarning: invalid escape sequence '\\l'\n",
      "C:\\Users\\luan.nguyen\\AppData\\Local\\Temp\\ipykernel_13040\\518661839.py:2: SyntaxWarning: invalid escape sequence '\\l'\n",
      "  filepath_closed_sales = \"C:\\\\Users\\luan.nguyen\\Documents\\monolith\\planning_accuracy_report\\__raw_data\\Closed sales - size level.xlsx\"\n"
     ]
    }
   ],
   "source": [
    "# filepath_closed_sales = \"T:\\Demand Planning\\Carry ATS review\\Exports\\Closed Sales\\Closed sales - size level.xlsx\"\n",
    "filepath_closed_sales = \"C:\\\\Users\\luan.nguyen\\Documents\\monolith\\planning_accuracy_report\\__raw_data\\Closed sales - size level.xlsx\"\n",
    "\n",
    "# closed_sales_data_1 = ddb.sql(f\"\"\"\n",
    "#     SELECT * \n",
    "#     FROM read_xlsx(\"{filepath_closed_sales}\", header = True, sheet = \"Basics Sales Data\")\n",
    "#     WHERE \"Date Start\" >= '2024-10' AND \"Date Start\" <= '2024-12'\n",
    "#     LIMIT 100\n",
    "#     \"\"\")"
   ]
  },
  {
   "cell_type": "code",
   "execution_count": 6,
   "id": "85a51c13",
   "metadata": {},
   "outputs": [],
   "source": [
    "# closed_sales_data_2 = ddb.sql(f\"\"\"\n",
    "#     SELECT * \n",
    "#     FROM read_xlsx(\"{filepath_closed_sales}\", header = false, sheet = \"Basics Sales Data(1)\") \n",
    "#     \"\"\")"
   ]
  },
  {
   "cell_type": "code",
   "execution_count": 7,
   "id": "7fce25a6",
   "metadata": {},
   "outputs": [
    {
     "data": {
      "application/vnd.jupyter.widget-view+json": {
       "model_id": "b328d6c1a0164c6db45c04d1470aea68",
       "version_major": 2,
       "version_minor": 0
      },
      "text/plain": [
       "FloatProgress(value=0.0, layout=Layout(width='auto'), style=ProgressStyle(bar_color='black'))"
      ]
     },
     "metadata": {},
     "output_type": "display_data"
    }
   ],
   "source": [
    "## Load only the sheet into memory once\n",
    "closed_sales_data = ddb.sql(f\"\"\"\n",
    "    CREATE TEMPORARY TABLE closed_sales AS \n",
    "    SELECT * \n",
    "    FROM read_xlsx('{filepath_closed_sales}', header = TRUE, sheet = 'Basics Sales Data')\n",
    "    UNION ALL\n",
    "    SELECT * \n",
    "    FROM read_xlsx('{filepath_closed_sales}', header = TRUE, sheet = 'Basics Sales Data(1)')\n",
    "\"\"\")"
   ]
  },
  {
   "cell_type": "code",
   "execution_count": 8,
   "id": "1140105c",
   "metadata": {},
   "outputs": [],
   "source": [
    "## Because we're query this data frequently, making it into parquet\n",
    "ddb.sql(f\"\"\"\n",
    "    COPY closed_sales TO '__raw_data/closed_sales.parquet' (FORMAT PARQUET)\n",
    "\"\"\")"
   ]
  },
  {
   "cell_type": "code",
   "execution_count": 9,
   "id": "75faeb3b",
   "metadata": {},
   "outputs": [
    {
     "name": "stderr",
     "output_type": "stream",
     "text": [
      "<>:1: SyntaxWarning: invalid escape sequence '\\l'\n",
      "<>:1: SyntaxWarning: invalid escape sequence '\\l'\n",
      "C:\\Users\\luan.nguyen\\AppData\\Local\\Temp\\ipykernel_13040\\2011546860.py:1: SyntaxWarning: invalid escape sequence '\\l'\n",
      "  filepath_closed_sales_parquet = \"C:\\\\Users\\luan.nguyen\\Documents\\monolith\\planning_accuracy_report\\__raw_data\\closed_sales.parquet\"\n"
     ]
    }
   ],
   "source": [
    "filepath_closed_sales_parquet = \"C:\\\\Users\\luan.nguyen\\Documents\\monolith\\planning_accuracy_report\\__raw_data\\closed_sales.parquet\""
   ]
  },
  {
   "cell_type": "code",
   "execution_count": null,
   "id": "01b8a029",
   "metadata": {},
   "outputs": [
    {
     "name": "stdout",
     "output_type": "stream",
     "text": [
      "1297875\n"
     ]
    }
   ],
   "source": [
    "## Get total count of rows to make sure data is intact\n",
    "## As of 2025-08-24\n",
    "count = ddb.sql(f\"\"\"\n",
    "    SELECT COUNT(*)\n",
    "    FROM '{filepath_closed_sales_parquet}'\n",
    "\"\"\").fetchone()[0]\n",
    "\n",
    "print(count)"
   ]
  },
  {
   "cell_type": "code",
   "execution_count": 16,
   "id": "ad2d9b00",
   "metadata": {},
   "outputs": [],
   "source": [
    "closed_sales_data_1 = ddb.sql(f\"\"\"\n",
    "    SELECT *\n",
    "    FROM '{filepath_closed_sales_parquet}'\n",
    "    WHERE \"Date Start\" >= '2024-10' AND \"Date Start\" <= '2024-12'\n",
    "\"\"\")"
   ]
  },
  {
   "cell_type": "code",
   "execution_count": 17,
   "id": "756634c3",
   "metadata": {},
   "outputs": [
    {
     "name": "stdout",
     "output_type": "stream",
     "text": [
      "464570\n"
     ]
    }
   ],
   "source": [
    "count_2024 = ddb.sql(f\"\"\"\n",
    "    SELECT COUNT(*)\n",
    "    FROM 'closed_sales_data_1'\n",
    "\"\"\").fetchone()[0]\n",
    "\n",
    "print(count_2024)"
   ]
  },
  {
   "cell_type": "code",
   "execution_count": 18,
   "id": "1f2ce561",
   "metadata": {},
   "outputs": [],
   "source": [
    "closed_sales_data_2 = ddb.sql(f\"\"\"\n",
    "    SELECT *\n",
    "    FROM '{filepath_closed_sales_parquet}'\n",
    "    WHERE \"Date Start\" >= '2025-01' AND \"Date Start\" <= '2025-10'\n",
    "\"\"\")"
   ]
  },
  {
   "cell_type": "code",
   "execution_count": 19,
   "id": "270af746",
   "metadata": {},
   "outputs": [
    {
     "name": "stdout",
     "output_type": "stream",
     "text": [
      "833305\n"
     ]
    }
   ],
   "source": [
    "count_2025 = ddb.sql(f\"\"\"\n",
    "    SELECT COUNT(*)\n",
    "    FROM 'closed_sales_data_2'\n",
    "\"\"\").fetchone()[0]\n",
    "\n",
    "print(count_2025)"
   ]
  },
  {
   "cell_type": "code",
   "execution_count": 21,
   "id": "bb5cfa07",
   "metadata": {},
   "outputs": [],
   "source": [
    "with pd.ExcelWriter(\"__raw_data/closed_sales.xlsx\") as writer:\n",
    "    closed_sales_data_1.df().to_excel(writer, sheet_name=\"202410-202412\", index = False)\n",
    "    closed_sales_data_2.df().to_excel(writer, sheet_name=\"202501-202509\", index = False)"
   ]
  }
 ],
 "metadata": {
  "kernelspec": {
   "display_name": "monolith (3.13.5)",
   "language": "python",
   "name": "python3"
  },
  "language_info": {
   "codemirror_mode": {
    "name": "ipython",
    "version": 3
   },
   "file_extension": ".py",
   "mimetype": "text/x-python",
   "name": "python",
   "nbconvert_exporter": "python",
   "pygments_lexer": "ipython3",
   "version": "3.13.5"
  }
 },
 "nbformat": 4,
 "nbformat_minor": 5
}
