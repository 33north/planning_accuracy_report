{
 "cells": [
  {
   "cell_type": "code",
   "execution_count": 1,
   "id": "cb80382d",
   "metadata": {},
   "outputs": [],
   "source": [
    "from hdbcli import dbapi"
   ]
  },
  {
   "cell_type": "code",
   "execution_count": null,
   "id": "c57aed76",
   "metadata": {},
   "outputs": [],
   "source": [
    "conn = dbapi.connect(\n",
    "    address = \n",
    ")"
   ]
  }
 ],
 "metadata": {
  "kernelspec": {
   "display_name": "monolith (3.13.5)",
   "language": "python",
   "name": "python3"
  },
  "language_info": {
   "codemirror_mode": {
    "name": "ipython",
    "version": 3
   },
   "file_extension": ".py",
   "mimetype": "text/x-python",
   "name": "python",
   "nbconvert_exporter": "python",
   "pygments_lexer": "ipython3",
   "version": "3.13.5"
  }
 },
 "nbformat": 4,
 "nbformat_minor": 5
}
